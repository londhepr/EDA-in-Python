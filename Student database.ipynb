{
 "cells": [
  {
   "cell_type": "markdown",
   "id": "091b0f1e",
   "metadata": {},
   "source": [
    "# Importing all libraries"
   ]
  },
  {
   "cell_type": "code",
   "execution_count": 51,
   "id": "adee1d69",
   "metadata": {},
   "outputs": [],
   "source": [
    "import pandas as pd\n",
    "import numpy as np\n",
    "import seaborn as sns\n",
    "import matplotlib.pyplot as plt\n",
    "from scipy import stats\n",
    "import scipy.stats as stats\n",
    "from sklearn.preprocessing import StandardScaler\n",
    "from sklearn.preprocessing import MinMaxScaler"
   ]
  },
  {
   "cell_type": "code",
   "execution_count": 52,
   "id": "76af9e2c",
   "metadata": {},
   "outputs": [
    {
     "name": "stdout",
     "output_type": "stream",
     "text": [
      "Requirement already satisfied: num2words in c:\\users\\priyanka\\anaconda3\\lib\\site-packages (0.5.13)\n",
      "Requirement already satisfied: docopt>=0.6.2 in c:\\users\\priyanka\\anaconda3\\lib\\site-packages (from num2words) (0.6.2)\n",
      "Note: you may need to restart the kernel to use updated packages.\n"
     ]
    }
   ],
   "source": [
    "pip install num2words"
   ]
  },
  {
   "cell_type": "code",
   "execution_count": 53,
   "id": "f4850253",
   "metadata": {},
   "outputs": [],
   "source": [
    "from num2words import num2words"
   ]
  },
  {
   "cell_type": "markdown",
   "id": "e3dd098d",
   "metadata": {},
   "source": [
    "# Original dataframe "
   ]
  },
  {
   "cell_type": "code",
   "execution_count": 54,
   "id": "ba97fe67",
   "metadata": {
    "scrolled": true
   },
   "outputs": [
    {
     "data": {
      "text/html": [
       "<div>\n",
       "<style scoped>\n",
       "    .dataframe tbody tr th:only-of-type {\n",
       "        vertical-align: middle;\n",
       "    }\n",
       "\n",
       "    .dataframe tbody tr th {\n",
       "        vertical-align: top;\n",
       "    }\n",
       "\n",
       "    .dataframe thead th {\n",
       "        text-align: right;\n",
       "    }\n",
       "</style>\n",
       "<table border=\"1\" class=\"dataframe\">\n",
       "  <thead>\n",
       "    <tr style=\"text-align: right;\">\n",
       "      <th></th>\n",
       "      <th>Certification Course</th>\n",
       "      <th>Gender</th>\n",
       "      <th>Department</th>\n",
       "      <th>Height(CM)</th>\n",
       "      <th>Weight(KG)</th>\n",
       "      <th>10th Mark</th>\n",
       "      <th>12th Mark</th>\n",
       "      <th>College mark</th>\n",
       "      <th>Hobbies</th>\n",
       "      <th>Daily study time</th>\n",
       "      <th>Preferreed study time</th>\n",
       "      <th>Salary expectation</th>\n",
       "      <th>Like degree</th>\n",
       "      <th>Pursue degree related career</th>\n",
       "      <th>Social media consumption</th>\n",
       "      <th>Travelling time</th>\n",
       "      <th>Stress level</th>\n",
       "      <th>Financial status</th>\n",
       "      <th>Current part-time job</th>\n",
       "    </tr>\n",
       "  </thead>\n",
       "  <tbody>\n",
       "    <tr>\n",
       "      <th>0</th>\n",
       "      <td>No</td>\n",
       "      <td>Male</td>\n",
       "      <td>BCA</td>\n",
       "      <td>100.0</td>\n",
       "      <td>58.0</td>\n",
       "      <td>79.0</td>\n",
       "      <td>64.0</td>\n",
       "      <td>80.0</td>\n",
       "      <td>Video Games</td>\n",
       "      <td>0 - 30 minute</td>\n",
       "      <td>Morning</td>\n",
       "      <td>40000</td>\n",
       "      <td>No</td>\n",
       "      <td>50%</td>\n",
       "      <td>1.30 - 2 hour</td>\n",
       "      <td>30 - 60 minutes</td>\n",
       "      <td>Bad</td>\n",
       "      <td>Bad</td>\n",
       "      <td>No</td>\n",
       "    </tr>\n",
       "    <tr>\n",
       "      <th>1</th>\n",
       "      <td>No</td>\n",
       "      <td>Female</td>\n",
       "      <td>BCA</td>\n",
       "      <td>90.0</td>\n",
       "      <td>40.0</td>\n",
       "      <td>70.0</td>\n",
       "      <td>80.0</td>\n",
       "      <td>70.0</td>\n",
       "      <td>Cinema</td>\n",
       "      <td>30 - 60 minute</td>\n",
       "      <td>Morning</td>\n",
       "      <td>15000</td>\n",
       "      <td>Yes</td>\n",
       "      <td>75%</td>\n",
       "      <td>1 - 1.30 hour</td>\n",
       "      <td>0 - 30 minutes</td>\n",
       "      <td>Bad</td>\n",
       "      <td>Bad</td>\n",
       "      <td>No</td>\n",
       "    </tr>\n",
       "  </tbody>\n",
       "</table>\n",
       "</div>"
      ],
      "text/plain": [
       "  Certification Course  Gender Department  Height(CM)  Weight(KG)  10th Mark  \\\n",
       "0                   No    Male        BCA       100.0        58.0       79.0   \n",
       "1                   No  Female        BCA        90.0        40.0       70.0   \n",
       "\n",
       "   12th Mark  College mark      Hobbies Daily study time  \\\n",
       "0       64.0          80.0  Video Games    0 - 30 minute   \n",
       "1       80.0          70.0       Cinema   30 - 60 minute   \n",
       "\n",
       "  Preferreed study time  Salary expectation Like degree  \\\n",
       "0               Morning               40000          No   \n",
       "1               Morning               15000         Yes   \n",
       "\n",
       "  Pursue degree related career Social media consumption  Travelling time  \\\n",
       "0                          50%            1.30 - 2 hour  30 - 60 minutes   \n",
       "1                          75%            1 - 1.30 hour   0 - 30 minutes   \n",
       "\n",
       "  Stress level Financial status Current part-time job  \n",
       "0          Bad              Bad                    No  \n",
       "1          Bad              Bad                    No  "
      ]
     },
     "execution_count": 54,
     "metadata": {},
     "output_type": "execute_result"
    }
   ],
   "source": [
    "data_path = \"C:\\\\Users\\\\PRIYANKA\\\\OneDrive\\\\Documents\\\\Python practice sessions\\\\Student\\\\Student Attitude and Behavior.csv\"\n",
    "df = pd.read_csv(data_path)\n",
    "df.head(2)"
   ]
  },
  {
   "cell_type": "markdown",
   "id": "912b61ec",
   "metadata": {},
   "source": [
    "# The original dataframe has 235 rows and 19 columns. There are no missing values in the dataset"
   ]
  },
  {
   "cell_type": "code",
   "execution_count": 55,
   "id": "54294173",
   "metadata": {},
   "outputs": [
    {
     "data": {
      "text/plain": [
       "(235, 19)"
      ]
     },
     "execution_count": 55,
     "metadata": {},
     "output_type": "execute_result"
    }
   ],
   "source": [
    "df.shape"
   ]
  },
  {
   "cell_type": "code",
   "execution_count": 56,
   "id": "f5d8e341",
   "metadata": {},
   "outputs": [
    {
     "name": "stdout",
     "output_type": "stream",
     "text": [
      "Certification Course            0\n",
      "Gender                          0\n",
      "Department                      0\n",
      "Height(CM)                      0\n",
      "Weight(KG)                      0\n",
      "10th Mark                       0\n",
      "12th Mark                       0\n",
      "College mark                    0\n",
      "Hobbies                         0\n",
      "Daily study time                0\n",
      "Preferreed study time           0\n",
      "Salary expectation              0\n",
      "Like degree                     0\n",
      "Pursue degree related career    0\n",
      "Social media consumption        0\n",
      "Travelling time                 0\n",
      "Stress level                    0\n",
      "Financial status                0\n",
      "Current part-time job           0\n",
      "dtype: int64\n"
     ]
    }
   ],
   "source": [
    "print(df.isnull().sum())"
   ]
  },
  {
   "cell_type": "markdown",
   "id": "ebac2746",
   "metadata": {},
   "source": [
    "# Data description of the original dataset"
   ]
  },
  {
   "cell_type": "code",
   "execution_count": 57,
   "id": "3da31ca8",
   "metadata": {
    "scrolled": true
   },
   "outputs": [
    {
     "data": {
      "text/html": [
       "<div>\n",
       "<style scoped>\n",
       "    .dataframe tbody tr th:only-of-type {\n",
       "        vertical-align: middle;\n",
       "    }\n",
       "\n",
       "    .dataframe tbody tr th {\n",
       "        vertical-align: top;\n",
       "    }\n",
       "\n",
       "    .dataframe thead th {\n",
       "        text-align: right;\n",
       "    }\n",
       "</style>\n",
       "<table border=\"1\" class=\"dataframe\">\n",
       "  <thead>\n",
       "    <tr style=\"text-align: right;\">\n",
       "      <th></th>\n",
       "      <th>Height(CM)</th>\n",
       "      <th>Weight(KG)</th>\n",
       "      <th>10th Mark</th>\n",
       "      <th>12th Mark</th>\n",
       "      <th>College mark</th>\n",
       "      <th>Salary expectation</th>\n",
       "    </tr>\n",
       "  </thead>\n",
       "  <tbody>\n",
       "    <tr>\n",
       "      <th>count</th>\n",
       "      <td>235.000000</td>\n",
       "      <td>235.000000</td>\n",
       "      <td>235.000000</td>\n",
       "      <td>235.000000</td>\n",
       "      <td>235.000000</td>\n",
       "      <td>2.350000e+02</td>\n",
       "    </tr>\n",
       "    <tr>\n",
       "      <th>mean</th>\n",
       "      <td>157.402128</td>\n",
       "      <td>60.803830</td>\n",
       "      <td>76.848511</td>\n",
       "      <td>68.775872</td>\n",
       "      <td>70.660553</td>\n",
       "      <td>3.248168e+04</td>\n",
       "    </tr>\n",
       "    <tr>\n",
       "      <th>std</th>\n",
       "      <td>21.510805</td>\n",
       "      <td>14.895844</td>\n",
       "      <td>13.047560</td>\n",
       "      <td>11.018192</td>\n",
       "      <td>15.727446</td>\n",
       "      <td>1.113146e+05</td>\n",
       "    </tr>\n",
       "    <tr>\n",
       "      <th>min</th>\n",
       "      <td>4.500000</td>\n",
       "      <td>20.000000</td>\n",
       "      <td>7.400000</td>\n",
       "      <td>45.000000</td>\n",
       "      <td>1.000000</td>\n",
       "      <td>0.000000e+00</td>\n",
       "    </tr>\n",
       "    <tr>\n",
       "      <th>25%</th>\n",
       "      <td>152.000000</td>\n",
       "      <td>50.000000</td>\n",
       "      <td>70.000000</td>\n",
       "      <td>60.000000</td>\n",
       "      <td>60.000000</td>\n",
       "      <td>1.500000e+04</td>\n",
       "    </tr>\n",
       "    <tr>\n",
       "      <th>50%</th>\n",
       "      <td>160.000000</td>\n",
       "      <td>60.000000</td>\n",
       "      <td>80.000000</td>\n",
       "      <td>69.000000</td>\n",
       "      <td>70.000000</td>\n",
       "      <td>2.000000e+04</td>\n",
       "    </tr>\n",
       "    <tr>\n",
       "      <th>75%</th>\n",
       "      <td>170.000000</td>\n",
       "      <td>70.000000</td>\n",
       "      <td>86.250000</td>\n",
       "      <td>76.000000</td>\n",
       "      <td>80.000000</td>\n",
       "      <td>2.500000e+04</td>\n",
       "    </tr>\n",
       "    <tr>\n",
       "      <th>max</th>\n",
       "      <td>192.000000</td>\n",
       "      <td>106.000000</td>\n",
       "      <td>98.000000</td>\n",
       "      <td>94.000000</td>\n",
       "      <td>100.000000</td>\n",
       "      <td>1.500000e+06</td>\n",
       "    </tr>\n",
       "  </tbody>\n",
       "</table>\n",
       "</div>"
      ],
      "text/plain": [
       "       Height(CM)  Weight(KG)   10th Mark   12th Mark  College mark  \\\n",
       "count  235.000000  235.000000  235.000000  235.000000    235.000000   \n",
       "mean   157.402128   60.803830   76.848511   68.775872     70.660553   \n",
       "std     21.510805   14.895844   13.047560   11.018192     15.727446   \n",
       "min      4.500000   20.000000    7.400000   45.000000      1.000000   \n",
       "25%    152.000000   50.000000   70.000000   60.000000     60.000000   \n",
       "50%    160.000000   60.000000   80.000000   69.000000     70.000000   \n",
       "75%    170.000000   70.000000   86.250000   76.000000     80.000000   \n",
       "max    192.000000  106.000000   98.000000   94.000000    100.000000   \n",
       "\n",
       "       Salary expectation  \n",
       "count        2.350000e+02  \n",
       "mean         3.248168e+04  \n",
       "std          1.113146e+05  \n",
       "min          0.000000e+00  \n",
       "25%          1.500000e+04  \n",
       "50%          2.000000e+04  \n",
       "75%          2.500000e+04  \n",
       "max          1.500000e+06  "
      ]
     },
     "execution_count": 57,
     "metadata": {},
     "output_type": "execute_result"
    }
   ],
   "source": [
    "df.describe()"
   ]
  },
  {
   "cell_type": "markdown",
   "id": "a04b1564",
   "metadata": {},
   "source": [
    "# Method to convert datatype of one column from number to words\n",
    "- Copy the dataframe to a new variable\n",
    "- Define 'number to words'\n",
    "- Use the column name in the code and run the dataframe"
   ]
  },
  {
   "cell_type": "code",
   "execution_count": 58,
   "id": "e7559a97",
   "metadata": {},
   "outputs": [],
   "source": [
    "newdf = df.copy()"
   ]
  },
  {
   "cell_type": "code",
   "execution_count": 59,
   "id": "cfca745d",
   "metadata": {},
   "outputs": [],
   "source": [
    "def number_to_words(number):\n",
    "    return num2words(number)"
   ]
  },
  {
   "cell_type": "code",
   "execution_count": 60,
   "id": "7191178c",
   "metadata": {},
   "outputs": [
    {
     "name": "stdout",
     "output_type": "stream",
     "text": [
      "    Certification Course  Gender Department  Height(CM)  Weight(KG)  \\\n",
      "0                     No    Male        BCA       100.0        58.0   \n",
      "1                     No  Female        BCA        90.0        40.0   \n",
      "2                    Yes    Male        BCA       159.0        78.0   \n",
      "3                    Yes  Female        BCA       147.0        20.0   \n",
      "4                     No    Male        BCA       170.0        54.0   \n",
      "..                   ...     ...        ...         ...         ...   \n",
      "230                  Yes    Male  B.com ISM       170.0        76.0   \n",
      "231                  Yes    Male  B.com ISM       172.0        52.0   \n",
      "232                  Yes  Female        BCA       139.0        33.0   \n",
      "233                  Yes  Female   Commerce       153.0        58.0   \n",
      "234                   No  Female  B.com ISM       155.0        39.0   \n",
      "\n",
      "     10th Mark  12th Mark  College mark        Hobbies Daily study time  \\\n",
      "0         79.0       64.0          80.0    Video Games    0 - 30 minute   \n",
      "1         70.0       80.0          70.0         Cinema   30 - 60 minute   \n",
      "2         71.0       61.0          55.0         Cinema       1 - 2 Hour   \n",
      "3         70.0       59.0          58.0  Reading books       1 - 2 Hour   \n",
      "4         40.0       65.0          30.0    Video Games   30 - 60 minute   \n",
      "..         ...        ...           ...            ...              ...   \n",
      "230       72.0       67.0          65.0    Video Games   30 - 60 minute   \n",
      "231       72.0       70.0          76.0         Cinema       2 - 3 hour   \n",
      "232       90.0       75.0          70.0         Cinema   30 - 60 minute   \n",
      "233       85.0       74.0          75.0         Cinema    0 - 30 minute   \n",
      "234       45.0       45.0          50.0         Sports       3 - 4 hour   \n",
      "\n",
      "    Preferreed study time                  Salary expectation Like degree  \\\n",
      "0                 Morning                      forty thousand          No   \n",
      "1                 Morning                    fifteen thousand         Yes   \n",
      "2                 Anytime                   thirteen thousand         Yes   \n",
      "3                 Anytime  one million, five hundred thousand          No   \n",
      "4                 Morning                      fifty thousand         Yes   \n",
      "..                    ...                                 ...         ...   \n",
      "230               Morning                      seven thousand         Yes   \n",
      "231               Anytime                twenty-five thousand         Yes   \n",
      "232                 Night                     twenty thousand         Yes   \n",
      "233               Anytime                     twenty thousand         Yes   \n",
      "234                 Night                                 ten          No   \n",
      "\n",
      "    Pursue degree related career Social media consumption  Travelling time  \\\n",
      "0                            50%            1.30 - 2 hour  30 - 60 minutes   \n",
      "1                            75%            1 - 1.30 hour   0 - 30 minutes   \n",
      "2                            50%         More than 2 hour  30 - 60 minutes   \n",
      "3                            50%            1.30 - 2 hour   0 - 30 minutes   \n",
      "4                            25%            1.30 - 2 hour  30 - 60 minutes   \n",
      "..                           ...                      ...              ...   \n",
      "230                          50%         More than 2 hour  30 - 60 minutes   \n",
      "231                          75%           30 - 60 Minute  30 - 60 minutes   \n",
      "232                          50%           30 - 60 Minute    2.30 - 3 hour   \n",
      "233                          75%         More than 2 hour    2.30 - 3 hour   \n",
      "234                          75%           30 - 60 Minute    2.30 - 3 hour   \n",
      "\n",
      "    Stress level Financial status Current part-time job  \n",
      "0            Bad              Bad                    No  \n",
      "1            Bad              Bad                    No  \n",
      "2          Awful              Bad                    No  \n",
      "3            Bad             good                    No  \n",
      "4           Good             good                    No  \n",
      "..           ...              ...                   ...  \n",
      "230          Bad              Bad                    No  \n",
      "231         Good             good                    No  \n",
      "232          Bad             good                    No  \n",
      "233        Awful             good                    No  \n",
      "234     fabulous             good                    No  \n",
      "\n",
      "[235 rows x 19 columns]\n"
     ]
    }
   ],
   "source": [
    "newdf['Salary expectation'] = newdf['Salary expectation'].apply(number_to_words)\n",
    "print(newdf)"
   ]
  },
  {
   "cell_type": "markdown",
   "id": "7428e251",
   "metadata": {},
   "source": [
    "# Method to convert datatype of one column from words to numbers"
   ]
  },
  {
   "cell_type": "code",
   "execution_count": 61,
   "id": "b5b142d2",
   "metadata": {},
   "outputs": [
    {
     "name": "stdout",
     "output_type": "stream",
     "text": [
      "    Certification Course  Gender Department  Height(CM)  Weight(KG)  \\\n",
      "0                     No    Male        BCA       100.0        58.0   \n",
      "1                     No  Female        BCA        90.0        40.0   \n",
      "2                    Yes    Male        BCA       159.0        78.0   \n",
      "3                    Yes  Female        BCA       147.0        20.0   \n",
      "4                     No    Male        BCA       170.0        54.0   \n",
      "..                   ...     ...        ...         ...         ...   \n",
      "230                  Yes    Male  B.com ISM       170.0        76.0   \n",
      "231                  Yes    Male  B.com ISM       172.0        52.0   \n",
      "232                  Yes  Female        BCA       139.0        33.0   \n",
      "233                  Yes  Female   Commerce       153.0        58.0   \n",
      "234                   No  Female  B.com ISM       155.0        39.0   \n",
      "\n",
      "     10th Mark  12th Mark  College mark        Hobbies Daily study time  \\\n",
      "0         79.0       64.0          80.0    Video Games    0 - 30 minute   \n",
      "1         70.0       80.0          70.0         Cinema   30 - 60 minute   \n",
      "2         71.0       61.0          55.0         Cinema       1 - 2 Hour   \n",
      "3         70.0       59.0          58.0  Reading books       1 - 2 Hour   \n",
      "4         40.0       65.0          30.0    Video Games   30 - 60 minute   \n",
      "..         ...        ...           ...            ...              ...   \n",
      "230       72.0       67.0          65.0    Video Games   30 - 60 minute   \n",
      "231       72.0       70.0          76.0         Cinema       2 - 3 hour   \n",
      "232       90.0       75.0          70.0         Cinema   30 - 60 minute   \n",
      "233       85.0       74.0          75.0         Cinema    0 - 30 minute   \n",
      "234       45.0       45.0          50.0         Sports       3 - 4 hour   \n",
      "\n",
      "    Preferreed study time                  Salary expectation Like degree  \\\n",
      "0                 Morning                      forty thousand          No   \n",
      "1                 Morning                    fifteen thousand         Yes   \n",
      "2                 Anytime                   thirteen thousand         Yes   \n",
      "3                 Anytime  one million, five hundred thousand          No   \n",
      "4                 Morning                      fifty thousand         Yes   \n",
      "..                    ...                                 ...         ...   \n",
      "230               Morning                      seven thousand         Yes   \n",
      "231               Anytime                twenty-five thousand         Yes   \n",
      "232                 Night                     twenty thousand         Yes   \n",
      "233               Anytime                     twenty thousand         Yes   \n",
      "234                 Night                                 ten          No   \n",
      "\n",
      "    Pursue degree related career Social media consumption  Travelling time  \\\n",
      "0                            50%            1.30 - 2 hour  30 - 60 minutes   \n",
      "1                            75%            1 - 1.30 hour   0 - 30 minutes   \n",
      "2                            50%         More than 2 hour  30 - 60 minutes   \n",
      "3                            50%            1.30 - 2 hour   0 - 30 minutes   \n",
      "4                            25%            1.30 - 2 hour  30 - 60 minutes   \n",
      "..                           ...                      ...              ...   \n",
      "230                          50%         More than 2 hour  30 - 60 minutes   \n",
      "231                          75%           30 - 60 Minute  30 - 60 minutes   \n",
      "232                          50%           30 - 60 Minute    2.30 - 3 hour   \n",
      "233                          75%         More than 2 hour    2.30 - 3 hour   \n",
      "234                          75%           30 - 60 Minute    2.30 - 3 hour   \n",
      "\n",
      "    Stress level Financial status  Current part-time job  \n",
      "0            Bad              Bad                      2  \n",
      "1            Bad              Bad                      2  \n",
      "2          Awful              Bad                      2  \n",
      "3            Bad             good                      2  \n",
      "4           Good             good                      2  \n",
      "..           ...              ...                    ...  \n",
      "230          Bad              Bad                      2  \n",
      "231         Good             good                      2  \n",
      "232          Bad             good                      2  \n",
      "233        Awful             good                      2  \n",
      "234     fabulous             good                      2  \n",
      "\n",
      "[235 rows x 19 columns]\n"
     ]
    }
   ],
   "source": [
    "newdf['Current part-time job'] = df['Current part-time job'].replace({'Yes': 1, 'No': 2})\n",
    "print(newdf)"
   ]
  },
  {
   "cell_type": "markdown",
   "id": "51af0bbb",
   "metadata": {},
   "source": [
    "# Viewing unique values in one column at a time and unique values for all columns at once"
   ]
  },
  {
   "cell_type": "code",
   "execution_count": 62,
   "id": "53da4487",
   "metadata": {
    "scrolled": true
   },
   "outputs": [
    {
     "name": "stdout",
     "output_type": "stream",
     "text": [
      "['50%' '75%' '25%' '100%' '0%']\n"
     ]
    }
   ],
   "source": [
    "unique = df['Pursue degree related career'].unique()\n",
    "print(unique)"
   ]
  },
  {
   "cell_type": "code",
   "execution_count": 63,
   "id": "ae81afaf",
   "metadata": {},
   "outputs": [
    {
     "name": "stdout",
     "output_type": "stream",
     "text": [
      "Certification Course                                                    [No, Yes]\n",
      "Gender                                                             [Male, Female]\n",
      "Department                      [BCA, Commerce, B.com Accounting and Finance ,...\n",
      "Height(CM)                      [100.0, 90.0, 159.0, 147.0, 170.0, 139.0, 165....\n",
      "Weight(KG)                      [58.0, 40.0, 78.0, 20.0, 54.0, 33.0, 50.0, 43....\n",
      "10th Mark                       [79.0, 70.0, 71.0, 40.0, 90.0, 61.6, 88.2, 60....\n",
      "12th Mark                       [64.0, 80.0, 61.0, 59.0, 65.0, 75.0, 63.0, 61....\n",
      "College mark                    [80.0, 70.0, 55.0, 58.0, 30.0, 3.0, 75.0, 60.0...\n",
      "Hobbies                              [Video Games, Cinema, Reading books, Sports]\n",
      "Daily study time                [0 - 30 minute, 30 - 60 minute, 1 - 2 Hour, 2 ...\n",
      "Preferreed study time                                   [Morning, Anytime, Night]\n",
      "Salary expectation              [40000, 15000, 13000, 1500000, 50000, 20000, 2...\n",
      "Like degree                                                             [No, Yes]\n",
      "Pursue degree related career                            [50%, 75%, 25%, 100%, 0%]\n",
      "Social media consumption        [1.30 - 2 hour, 1 - 1.30 hour, More than 2 hou...\n",
      "Travelling time                 [30 - 60 minutes, 0 - 30 minutes, 1 - 1.30 hou...\n",
      "Stress level                                         [Bad, Awful, Good, fabulous]\n",
      "Financial status                                     [Bad, good, Awful, Fabulous]\n",
      "Current part-time job                                                   [No, Yes]\n",
      "dtype: object\n"
     ]
    }
   ],
   "source": [
    "uniqueall = df.apply(pd.Series.unique)\n",
    "print(uniqueall)"
   ]
  },
  {
   "cell_type": "markdown",
   "id": "37ff4b35",
   "metadata": {},
   "source": [
    "# Verifying data normalcy, formatting outliers and finding the mean and median\n",
    "- Apart from 'Salary expectation' variable, all data is normal"
   ]
  },
  {
   "cell_type": "code",
   "execution_count": 70,
   "id": "d7164864",
   "metadata": {},
   "outputs": [
    {
     "data": {
      "image/png": "[encoded data removed]",
      "text/plain": [
       "<Figure size 640x480 with 1 Axes>"
      ]
     },
     "metadata": {},
     "output_type": "display_data"
    }
   ],
   "source": [
    "df['10th Mark'].plot(kind='box',vert=False);\n",
    "plt.semilogy()\n",
    "red_circle = dict(markerfacecolor='red', marker='o')\n",
    "mean_shape = dict(markerfacecolor='green', marker='D', markeredgecolor = 'green')\n",
    "df['10th Mark'].plot(kind='box',vert=False, flierprops = red_circle, showmeans=True, meanprops = mean_shape, notch=True);"
   ]
  },
  {
   "cell_type": "code",
   "execution_count": 71,
   "id": "63cb2ec3",
   "metadata": {},
   "outputs": [
    {
     "data": {
      "image/png": "[encoded data removed]",
      "text/plain": [
       "<Figure size 640x480 with 1 Axes>"
      ]
     },
     "metadata": {},
     "output_type": "display_data"
    }
   ],
   "source": [
    "df['12th Mark'].plot(kind='box',vert=False);\n",
    "plt.semilogy()\n",
    "red_circle = dict(markerfacecolor='red', marker='o')\n",
    "mean_shape = dict(markerfacecolor='green', marker='D', markeredgecolor = 'green')\n",
    "df['12th Mark'].plot(kind='box',vert=False, flierprops = red_circle, showmeans=True, meanprops = mean_shape, notch=True);"
   ]
  },
  {
   "cell_type": "code",
   "execution_count": 73,
   "id": "768ae8f6",
   "metadata": {},
   "outputs": [
    {
     "data": {
      "image/png": "[encoded data removed]",
      "text/plain": [
       "<Figure size 640x480 with 1 Axes>"
      ]
     },
     "metadata": {},
     "output_type": "display_data"
    }
   ],
   "source": [
    "df['College mark'].plot(kind='box',vert=False);\n",
    "plt.semilogy()\n",
    "red_circle = dict(markerfacecolor='red', marker='o')\n",
    "mean_shape = dict(markerfacecolor='green', marker='D', markeredgecolor = 'green')\n",
    "df['College mark'].plot(kind='box',vert=False, flierprops = red_circle, showmeans=True, meanprops = mean_shape, notch=True);"
   ]
  },
  {
   "cell_type": "code",
   "execution_count": 74,
   "id": "2a466524",
   "metadata": {},
   "outputs": [
    {
     "data": {
      "image/png": "[encoded data removed]",
      "text/plain": [
       "<Figure size 640x480 with 1 Axes>"
      ]
     },
     "metadata": {},
     "output_type": "display_data"
    }
   ],
   "source": [
    "df['Salary expectation'].plot(kind='box',vert=False);\n",
    "plt.semilogy()\n",
    "red_circle = dict(markerfacecolor='red', marker='o')\n",
    "mean_shape = dict(markerfacecolor='green', marker='D', markeredgecolor = 'green')\n",
    "df['Salary expectation'].plot(kind='box',vert=False, flierprops = red_circle, showmeans=True, meanprops = mean_shape, notch=True);"
   ]
  },
  {
   "cell_type": "markdown",
   "id": "224984d7",
   "metadata": {},
   "source": [
    "# Normalizing one variable in dataframe - 'Salary expectation'"
   ]
  },
  {
   "cell_type": "code",
   "execution_count": 77,
   "id": "83845459",
   "metadata": {},
   "outputs": [
    {
     "name": "stdout",
     "output_type": "stream",
     "text": [
      "    Certification Course  Gender Department  Height(CM)  Weight(KG)  \\\n",
      "0                     No    Male        BCA       100.0        58.0   \n",
      "1                     No  Female        BCA        90.0        40.0   \n",
      "2                    Yes    Male        BCA       159.0        78.0   \n",
      "5                    Yes  Female        BCA       139.0        33.0   \n",
      "6                    Yes    Male        BCA       165.0        50.0   \n",
      "..                   ...     ...        ...         ...         ...   \n",
      "230                  Yes    Male  B.com ISM       170.0        76.0   \n",
      "231                  Yes    Male  B.com ISM       172.0        52.0   \n",
      "232                  Yes  Female        BCA       139.0        33.0   \n",
      "233                  Yes  Female   Commerce       153.0        58.0   \n",
      "234                   No  Female  B.com ISM       155.0        39.0   \n",
      "\n",
      "     10th Mark  12th Mark  College mark        Hobbies Daily study time  \\\n",
      "0         79.0       64.0          80.0    Video Games    0 - 30 minute   \n",
      "1         70.0       80.0          70.0         Cinema   30 - 60 minute   \n",
      "2         71.0       61.0          55.0         Cinema       1 - 2 Hour   \n",
      "5         90.0       75.0          70.0         Cinema   30 - 60 minute   \n",
      "6         70.0       63.0           3.0  Reading books       1 - 2 Hour   \n",
      "..         ...        ...           ...            ...              ...   \n",
      "230       72.0       67.0          65.0    Video Games   30 - 60 minute   \n",
      "231       72.0       70.0          76.0         Cinema       2 - 3 hour   \n",
      "232       90.0       75.0          70.0         Cinema   30 - 60 minute   \n",
      "233       85.0       74.0          75.0         Cinema    0 - 30 minute   \n",
      "234       45.0       45.0          50.0         Sports       3 - 4 hour   \n",
      "\n",
      "    Preferreed study time  Salary expectation Like degree  \\\n",
      "0                 Morning               40000          No   \n",
      "1                 Morning               15000         Yes   \n",
      "2                 Anytime               13000         Yes   \n",
      "5                   Night               20000         Yes   \n",
      "6                 Morning               15000         Yes   \n",
      "..                    ...                 ...         ...   \n",
      "230               Morning                7000         Yes   \n",
      "231               Anytime               25000         Yes   \n",
      "232                 Night               20000         Yes   \n",
      "233               Anytime               20000         Yes   \n",
      "234                 Night                  10          No   \n",
      "\n",
      "    Pursue degree related career Social media consumption  Travelling time  \\\n",
      "0                            50%            1.30 - 2 hour  30 - 60 minutes   \n",
      "1                            75%            1 - 1.30 hour   0 - 30 minutes   \n",
      "2                            50%         More than 2 hour  30 - 60 minutes   \n",
      "5                            50%           30 - 60 Minute   0 - 30 minutes   \n",
      "6                            75%            1 - 1.30 hour    1 - 1.30 hour   \n",
      "..                           ...                      ...              ...   \n",
      "230                          50%         More than 2 hour  30 - 60 minutes   \n",
      "231                          75%           30 - 60 Minute  30 - 60 minutes   \n",
      "232                          50%           30 - 60 Minute    2.30 - 3 hour   \n",
      "233                          75%         More than 2 hour    2.30 - 3 hour   \n",
      "234                          75%           30 - 60 Minute    2.30 - 3 hour   \n",
      "\n",
      "    Stress level Financial status Current part-time job  \n",
      "0            Bad              Bad                    No  \n",
      "1            Bad              Bad                    No  \n",
      "2          Awful              Bad                    No  \n",
      "5            Bad             good                    No  \n",
      "6           Good             good                    No  \n",
      "..           ...              ...                   ...  \n",
      "230          Bad              Bad                    No  \n",
      "231         Good             good                    No  \n",
      "232          Bad             good                    No  \n",
      "233        Awful             good                    No  \n",
      "234     fabulous             good                    No  \n",
      "\n",
      "[216 rows x 19 columns]\n"
     ]
    }
   ],
   "source": [
    "Q1 = df['Salary expectation'].quantile(0.25)\n",
    "Q3 = df['Salary expectation'].quantile(0.75)\n",
    "IQR = Q3 - Q1\n",
    "lower_bound = Q1 - 1.5 * IQR\n",
    "upper_bound = Q3 + 1.5 * IQR\n",
    "normal = df[(df['Salary expectation'] >= lower_bound) & (df['Salary expectation'] <= upper_bound)]\n",
    "print(normal)"
   ]
  },
  {
   "cell_type": "code",
   "execution_count": 78,
   "id": "ab10138c",
   "metadata": {},
   "outputs": [
    {
     "data": {
      "image/png": "[encoded data removed]",
      "text/plain": [
       "<Figure size 640x480 with 1 Axes>"
      ]
     },
     "metadata": {},
     "output_type": "display_data"
    }
   ],
   "source": [
    "normal['Salary expectation'].plot(kind='box',vert=False);\n",
    "plt.semilogy()\n",
    "red_circle = dict(markerfacecolor='red', marker='o')\n",
    "mean_shape = dict(markerfacecolor='green', marker='D', markeredgecolor = 'green')\n",
    "normal['Salary expectation'].plot(kind='box',vert=False, flierprops = red_circle, showmeans=True, meanprops = mean_shape, notch=True);"
   ]
  },
  {
   "cell_type": "markdown",
   "id": "b5820d6d",
   "metadata": {},
   "source": [
    "# Before normalizing the data, there were 253 rows, now there are 216 rows"
   ]
  },
  {
   "cell_type": "code",
   "execution_count": 80,
   "id": "99b04673",
   "metadata": {},
   "outputs": [
    {
     "data": {
      "text/plain": [
       "(216, 19)"
      ]
     },
     "execution_count": 80,
     "metadata": {},
     "output_type": "execute_result"
    }
   ],
   "source": [
    "normal.shape"
   ]
  },
  {
   "cell_type": "markdown",
   "id": "1961a38a",
   "metadata": {},
   "source": [
    "# Mean, mode and std.dev of normalized dataset\n",
    "- The average 10th std marks were 77%\n",
    "- The average 12th std marks were 69%\n",
    "- The average marks in college were 70%\n",
    "- The average salary expectation was INR 18,093 (with a std dev of INR 7371)"
   ]
  },
  {
   "cell_type": "code",
   "execution_count": 81,
   "id": "f066a13a",
   "metadata": {},
   "outputs": [
    {
     "name": "stderr",
     "output_type": "stream",
     "text": [
      "C:\\Users\\PRIYANKA\\AppData\\Local\\Temp\\ipykernel_122144\\1978448701.py:1: FutureWarning: The default value of numeric_only in DataFrame.mean is deprecated. In a future version, it will default to False. In addition, specifying 'numeric_only=None' is deprecated. Select only valid columns or specify the value of numeric_only to silence this warning.\n",
      "  mean_values = normal.mean()\n"
     ]
    },
    {
     "data": {
      "text/plain": [
       "Height(CM)              157.206019\n",
       "Weight(KG)               60.874537\n",
       "10th Mark                77.350000\n",
       "12th Mark                69.073287\n",
       "College mark             70.939491\n",
       "Salary expectation    18093.495370\n",
       "dtype: float64"
      ]
     },
     "execution_count": 81,
     "metadata": {},
     "output_type": "execute_result"
    }
   ],
   "source": [
    "mean_values = normal.mean()\n",
    "mean_values"
   ]
  },
  {
   "cell_type": "code",
   "execution_count": 82,
   "id": "4c23083f",
   "metadata": {},
   "outputs": [
    {
     "data": {
      "text/html": [
       "<div>\n",
       "<style scoped>\n",
       "    .dataframe tbody tr th:only-of-type {\n",
       "        vertical-align: middle;\n",
       "    }\n",
       "\n",
       "    .dataframe tbody tr th {\n",
       "        vertical-align: top;\n",
       "    }\n",
       "\n",
       "    .dataframe thead th {\n",
       "        text-align: right;\n",
       "    }\n",
       "</style>\n",
       "<table border=\"1\" class=\"dataframe\">\n",
       "  <thead>\n",
       "    <tr style=\"text-align: right;\">\n",
       "      <th></th>\n",
       "      <th>Certification Course</th>\n",
       "      <th>Gender</th>\n",
       "      <th>Department</th>\n",
       "      <th>Height(CM)</th>\n",
       "      <th>Weight(KG)</th>\n",
       "      <th>10th Mark</th>\n",
       "      <th>12th Mark</th>\n",
       "      <th>College mark</th>\n",
       "      <th>Hobbies</th>\n",
       "      <th>Daily study time</th>\n",
       "      <th>Preferreed study time</th>\n",
       "      <th>Salary expectation</th>\n",
       "      <th>Like degree</th>\n",
       "      <th>Pursue degree related career</th>\n",
       "      <th>Social media consumption</th>\n",
       "      <th>Travelling time</th>\n",
       "      <th>Stress level</th>\n",
       "      <th>Financial status</th>\n",
       "      <th>Current part-time job</th>\n",
       "    </tr>\n",
       "  </thead>\n",
       "  <tbody>\n",
       "    <tr>\n",
       "      <th>0</th>\n",
       "      <td>Yes</td>\n",
       "      <td>Male</td>\n",
       "      <td>BCA</td>\n",
       "      <td>160.0</td>\n",
       "      <td>60.0</td>\n",
       "      <td>75.0</td>\n",
       "      <td>60.0</td>\n",
       "      <td>70.0</td>\n",
       "      <td>Sports</td>\n",
       "      <td>30 - 60 minute</td>\n",
       "      <td>Anytime</td>\n",
       "      <td>20000.0</td>\n",
       "      <td>Yes</td>\n",
       "      <td>75%</td>\n",
       "      <td>30 - 60 Minute</td>\n",
       "      <td>30 - 60 minutes</td>\n",
       "      <td>Good</td>\n",
       "      <td>good</td>\n",
       "      <td>No</td>\n",
       "    </tr>\n",
       "    <tr>\n",
       "      <th>1</th>\n",
       "      <td>NaN</td>\n",
       "      <td>NaN</td>\n",
       "      <td>NaN</td>\n",
       "      <td>NaN</td>\n",
       "      <td>NaN</td>\n",
       "      <td>85.0</td>\n",
       "      <td>NaN</td>\n",
       "      <td>NaN</td>\n",
       "      <td>NaN</td>\n",
       "      <td>NaN</td>\n",
       "      <td>NaN</td>\n",
       "      <td>NaN</td>\n",
       "      <td>NaN</td>\n",
       "      <td>NaN</td>\n",
       "      <td>NaN</td>\n",
       "      <td>NaN</td>\n",
       "      <td>NaN</td>\n",
       "      <td>NaN</td>\n",
       "      <td>NaN</td>\n",
       "    </tr>\n",
       "  </tbody>\n",
       "</table>\n",
       "</div>"
      ],
      "text/plain": [
       "  Certification Course Gender Department  Height(CM)  Weight(KG)  10th Mark  \\\n",
       "0                  Yes   Male        BCA       160.0        60.0       75.0   \n",
       "1                  NaN    NaN        NaN         NaN         NaN       85.0   \n",
       "\n",
       "   12th Mark  College mark Hobbies Daily study time Preferreed study time  \\\n",
       "0       60.0          70.0  Sports   30 - 60 minute               Anytime   \n",
       "1        NaN           NaN     NaN              NaN                   NaN   \n",
       "\n",
       "   Salary expectation Like degree Pursue degree related career  \\\n",
       "0             20000.0         Yes                          75%   \n",
       "1                 NaN         NaN                          NaN   \n",
       "\n",
       "  Social media consumption  Travelling time Stress level Financial status  \\\n",
       "0           30 - 60 Minute  30 - 60 minutes         Good             good   \n",
       "1                      NaN              NaN          NaN              NaN   \n",
       "\n",
       "  Current part-time job  \n",
       "0                    No  \n",
       "1                   NaN  "
      ]
     },
     "execution_count": 82,
     "metadata": {},
     "output_type": "execute_result"
    }
   ],
   "source": [
    "mode_values = normal.mode()\n",
    "mode_values"
   ]
  },
  {
   "cell_type": "code",
   "execution_count": 83,
   "id": "f8c1aaad",
   "metadata": {},
   "outputs": [
    {
     "name": "stderr",
     "output_type": "stream",
     "text": [
      "C:\\Users\\PRIYANKA\\AppData\\Local\\Temp\\ipykernel_122144\\396885006.py:1: FutureWarning: The default value of numeric_only in DataFrame.std is deprecated. In a future version, it will default to False. In addition, specifying 'numeric_only=None' is deprecated. Select only valid columns or specify the value of numeric_only to silence this warning.\n",
      "  std_dev = normal.std()\n"
     ]
    },
    {
     "data": {
      "text/plain": [
       "Height(CM)              21.618692\n",
       "Weight(KG)              14.727922\n",
       "10th Mark               12.846949\n",
       "12th Mark               10.857030\n",
       "College mark            15.536379\n",
       "Salary expectation    7371.410360\n",
       "dtype: float64"
      ]
     },
     "execution_count": 83,
     "metadata": {},
     "output_type": "execute_result"
    }
   ],
   "source": [
    "std_dev = normal.std()\n",
    "std_dev"
   ]
  }
 ],
 "metadata": {
  "kernelspec": {
   "display_name": "Python 3 (ipykernel)",
   "language": "python",
   "name": "python3"
  },
  "language_info": {
   "codemirror_mode": {
    "name": "ipython",
    "version": 3
   },
   "file_extension": ".py",
   "mimetype": "text/x-python",
   "name": "python",
   "nbconvert_exporter": "python",
   "pygments_lexer": "ipython3",
   "version": "3.10.9"
  }
 },
 "nbformat": 4,
 "nbformat_minor": 5
}
